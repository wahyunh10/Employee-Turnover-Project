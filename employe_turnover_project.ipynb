{
  "nbformat": 4,
  "nbformat_minor": 0,
  "metadata": {
    "colab": {
      "name": "employe_turnover project.ipynb",
      "provenance": [],
      "authorship_tag": "ABX9TyNr02PPsckJ3IoyOdtcMVXX",
      "include_colab_link": true
    },
    "kernelspec": {
      "name": "python3",
      "display_name": "Python 3"
    },
    "language_info": {
      "name": "python"
    }
  },
  "cells": [
    {
      "cell_type": "markdown",
      "metadata": {
        "id": "view-in-github",
        "colab_type": "text"
      },
      "source": [
        "<a href=\"https://colab.research.google.com/github/wahyunh10/Employee-Turnover-Project/blob/main/employe_turnover_project.ipynb\" target=\"_parent\"><img src=\"https://colab.research.google.com/assets/colab-badge.svg\" alt=\"Open In Colab\"/></a>"
      ]
    },
    {
      "cell_type": "markdown",
      "source": [
        "# **Can you help reduce employee turnover?**"
      ],
      "metadata": {
        "id": "NfCf8atbmp-2"
      }
    },
    {
      "cell_type": "markdown",
      "source": [
        "**Background**\n",
        "\n",
        "You work for the human capital department of a large corporation. The Board is worried about the relatively high turnover, and your team must look into ways to reduce the number of employees leaving the company.\n",
        "\n",
        "The team needs to understand better the situation, which employees are more likely to leave, and why. Once it is clear what variables impact employee churn, you can present your findings along with your ideas on how to attack the problem."
      ],
      "metadata": {
        "id": "YgS0ZtqLmuWj"
      }
    },
    {
      "cell_type": "markdown",
      "source": [
        "**The data**\n",
        "\n",
        "The department has assembled data on almost 10,000 employees. The team used information from exit interviews, performance reviews, and employee records.\n",
        "\n",
        "* \"department\" - the department the employee belongs to.\n",
        "* \"promoted\" - 1 if the employee was promoted in the previous 24 months, 0 otherwise.\n",
        "* \"review\" - the composite score the employee received in their last evaluation.\n",
        "* \"projects\" - how many projects the employee is involved in.\n",
        "* \"salary\" - for confidentiality reasons, salary comes in three tiers: low, medium, high.\n",
        "* \"tenure\" - how many years the employee has been at the company.\n",
        "* \"satisfaction\" - a measure of employee satisfaction from surveys.\n",
        "* \"avg_hrs_month\" - the average hours the employee worked in a month.\n",
        "* \"left\" - \"yes\" if the employee ended up leaving, \"no\" otherwise."
      ],
      "metadata": {
        "id": "jkGk0_Dhm1DY"
      }
    },
    {
      "cell_type": "code",
      "execution_count": 1,
      "metadata": {
        "id": "VZXwgDgxefec"
      },
      "outputs": [],
      "source": [
        "import pandas as pd\n",
        "import seaborn as sns\n",
        "import matplotlib.pyplot as plt\n",
        "import numpy as np\n",
        "import matplotlib.ticker as mtick"
      ]
    },
    {
      "cell_type": "code",
      "source": [
        "df = pd.read_csv('employee turnover.csv')\n",
        "df"
      ],
      "metadata": {
        "colab": {
          "base_uri": "https://localhost:8080/",
          "height": 424
        },
        "id": "MHqqq_iNnSgl",
        "outputId": "b8f5267b-b49b-4eb6-f040-c2ee1b6b886e"
      },
      "execution_count": 4,
      "outputs": [
        {
          "output_type": "execute_result",
          "data": {
            "text/plain": [
              "      department  promoted    review  projects  salary  tenure  satisfaction  \\\n",
              "0     operations         0  0.577569         3     low     5.0      0.626759   \n",
              "1     operations         0  0.751900         3  medium     6.0      0.443679   \n",
              "2        support         0  0.722548         3  medium     6.0      0.446823   \n",
              "3      logistics         0  0.675158         4    high     8.0      0.440139   \n",
              "4          sales         0  0.676203         3    high     5.0      0.577607   \n",
              "...          ...       ...       ...       ...     ...     ...           ...   \n",
              "9535  operations         0  0.610988         4  medium     8.0      0.543641   \n",
              "9536   logistics         0  0.746887         3  medium     8.0      0.549048   \n",
              "9537  operations         0  0.557980         3     low     7.0      0.705425   \n",
              "9538          IT         0  0.584446         4  medium     8.0      0.607287   \n",
              "9539     finance         0  0.626373         3     low     7.0      0.706455   \n",
              "\n",
              "      bonus  avg_hrs_month left  \n",
              "0         0     180.866070   no  \n",
              "1         0     182.708149   no  \n",
              "2         0     184.416084   no  \n",
              "3         0     188.707545   no  \n",
              "4         1     179.821083   no  \n",
              "...     ...            ...  ...  \n",
              "9535      0     188.155738  yes  \n",
              "9536      0     188.176164  yes  \n",
              "9537      0     186.531008  yes  \n",
              "9538      1     187.641370  yes  \n",
              "9539      1     185.920934  yes  \n",
              "\n",
              "[9540 rows x 10 columns]"
            ],
            "text/html": [
              "\n",
              "  <div id=\"df-e939b8ab-2ee3-48e7-a46a-664a02dc3ae9\">\n",
              "    <div class=\"colab-df-container\">\n",
              "      <div>\n",
              "<style scoped>\n",
              "    .dataframe tbody tr th:only-of-type {\n",
              "        vertical-align: middle;\n",
              "    }\n",
              "\n",
              "    .dataframe tbody tr th {\n",
              "        vertical-align: top;\n",
              "    }\n",
              "\n",
              "    .dataframe thead th {\n",
              "        text-align: right;\n",
              "    }\n",
              "</style>\n",
              "<table border=\"1\" class=\"dataframe\">\n",
              "  <thead>\n",
              "    <tr style=\"text-align: right;\">\n",
              "      <th></th>\n",
              "      <th>department</th>\n",
              "      <th>promoted</th>\n",
              "      <th>review</th>\n",
              "      <th>projects</th>\n",
              "      <th>salary</th>\n",
              "      <th>tenure</th>\n",
              "      <th>satisfaction</th>\n",
              "      <th>bonus</th>\n",
              "      <th>avg_hrs_month</th>\n",
              "      <th>left</th>\n",
              "    </tr>\n",
              "  </thead>\n",
              "  <tbody>\n",
              "    <tr>\n",
              "      <th>0</th>\n",
              "      <td>operations</td>\n",
              "      <td>0</td>\n",
              "      <td>0.577569</td>\n",
              "      <td>3</td>\n",
              "      <td>low</td>\n",
              "      <td>5.0</td>\n",
              "      <td>0.626759</td>\n",
              "      <td>0</td>\n",
              "      <td>180.866070</td>\n",
              "      <td>no</td>\n",
              "    </tr>\n",
              "    <tr>\n",
              "      <th>1</th>\n",
              "      <td>operations</td>\n",
              "      <td>0</td>\n",
              "      <td>0.751900</td>\n",
              "      <td>3</td>\n",
              "      <td>medium</td>\n",
              "      <td>6.0</td>\n",
              "      <td>0.443679</td>\n",
              "      <td>0</td>\n",
              "      <td>182.708149</td>\n",
              "      <td>no</td>\n",
              "    </tr>\n",
              "    <tr>\n",
              "      <th>2</th>\n",
              "      <td>support</td>\n",
              "      <td>0</td>\n",
              "      <td>0.722548</td>\n",
              "      <td>3</td>\n",
              "      <td>medium</td>\n",
              "      <td>6.0</td>\n",
              "      <td>0.446823</td>\n",
              "      <td>0</td>\n",
              "      <td>184.416084</td>\n",
              "      <td>no</td>\n",
              "    </tr>\n",
              "    <tr>\n",
              "      <th>3</th>\n",
              "      <td>logistics</td>\n",
              "      <td>0</td>\n",
              "      <td>0.675158</td>\n",
              "      <td>4</td>\n",
              "      <td>high</td>\n",
              "      <td>8.0</td>\n",
              "      <td>0.440139</td>\n",
              "      <td>0</td>\n",
              "      <td>188.707545</td>\n",
              "      <td>no</td>\n",
              "    </tr>\n",
              "    <tr>\n",
              "      <th>4</th>\n",
              "      <td>sales</td>\n",
              "      <td>0</td>\n",
              "      <td>0.676203</td>\n",
              "      <td>3</td>\n",
              "      <td>high</td>\n",
              "      <td>5.0</td>\n",
              "      <td>0.577607</td>\n",
              "      <td>1</td>\n",
              "      <td>179.821083</td>\n",
              "      <td>no</td>\n",
              "    </tr>\n",
              "    <tr>\n",
              "      <th>...</th>\n",
              "      <td>...</td>\n",
              "      <td>...</td>\n",
              "      <td>...</td>\n",
              "      <td>...</td>\n",
              "      <td>...</td>\n",
              "      <td>...</td>\n",
              "      <td>...</td>\n",
              "      <td>...</td>\n",
              "      <td>...</td>\n",
              "      <td>...</td>\n",
              "    </tr>\n",
              "    <tr>\n",
              "      <th>9535</th>\n",
              "      <td>operations</td>\n",
              "      <td>0</td>\n",
              "      <td>0.610988</td>\n",
              "      <td>4</td>\n",
              "      <td>medium</td>\n",
              "      <td>8.0</td>\n",
              "      <td>0.543641</td>\n",
              "      <td>0</td>\n",
              "      <td>188.155738</td>\n",
              "      <td>yes</td>\n",
              "    </tr>\n",
              "    <tr>\n",
              "      <th>9536</th>\n",
              "      <td>logistics</td>\n",
              "      <td>0</td>\n",
              "      <td>0.746887</td>\n",
              "      <td>3</td>\n",
              "      <td>medium</td>\n",
              "      <td>8.0</td>\n",
              "      <td>0.549048</td>\n",
              "      <td>0</td>\n",
              "      <td>188.176164</td>\n",
              "      <td>yes</td>\n",
              "    </tr>\n",
              "    <tr>\n",
              "      <th>9537</th>\n",
              "      <td>operations</td>\n",
              "      <td>0</td>\n",
              "      <td>0.557980</td>\n",
              "      <td>3</td>\n",
              "      <td>low</td>\n",
              "      <td>7.0</td>\n",
              "      <td>0.705425</td>\n",
              "      <td>0</td>\n",
              "      <td>186.531008</td>\n",
              "      <td>yes</td>\n",
              "    </tr>\n",
              "    <tr>\n",
              "      <th>9538</th>\n",
              "      <td>IT</td>\n",
              "      <td>0</td>\n",
              "      <td>0.584446</td>\n",
              "      <td>4</td>\n",
              "      <td>medium</td>\n",
              "      <td>8.0</td>\n",
              "      <td>0.607287</td>\n",
              "      <td>1</td>\n",
              "      <td>187.641370</td>\n",
              "      <td>yes</td>\n",
              "    </tr>\n",
              "    <tr>\n",
              "      <th>9539</th>\n",
              "      <td>finance</td>\n",
              "      <td>0</td>\n",
              "      <td>0.626373</td>\n",
              "      <td>3</td>\n",
              "      <td>low</td>\n",
              "      <td>7.0</td>\n",
              "      <td>0.706455</td>\n",
              "      <td>1</td>\n",
              "      <td>185.920934</td>\n",
              "      <td>yes</td>\n",
              "    </tr>\n",
              "  </tbody>\n",
              "</table>\n",
              "<p>9540 rows × 10 columns</p>\n",
              "</div>\n",
              "      <button class=\"colab-df-convert\" onclick=\"convertToInteractive('df-e939b8ab-2ee3-48e7-a46a-664a02dc3ae9')\"\n",
              "              title=\"Convert this dataframe to an interactive table.\"\n",
              "              style=\"display:none;\">\n",
              "        \n",
              "  <svg xmlns=\"http://www.w3.org/2000/svg\" height=\"24px\"viewBox=\"0 0 24 24\"\n",
              "       width=\"24px\">\n",
              "    <path d=\"M0 0h24v24H0V0z\" fill=\"none\"/>\n",
              "    <path d=\"M18.56 5.44l.94 2.06.94-2.06 2.06-.94-2.06-.94-.94-2.06-.94 2.06-2.06.94zm-11 1L8.5 8.5l.94-2.06 2.06-.94-2.06-.94L8.5 2.5l-.94 2.06-2.06.94zm10 10l.94 2.06.94-2.06 2.06-.94-2.06-.94-.94-2.06-.94 2.06-2.06.94z\"/><path d=\"M17.41 7.96l-1.37-1.37c-.4-.4-.92-.59-1.43-.59-.52 0-1.04.2-1.43.59L10.3 9.45l-7.72 7.72c-.78.78-.78 2.05 0 2.83L4 21.41c.39.39.9.59 1.41.59.51 0 1.02-.2 1.41-.59l7.78-7.78 2.81-2.81c.8-.78.8-2.07 0-2.86zM5.41 20L4 18.59l7.72-7.72 1.47 1.35L5.41 20z\"/>\n",
              "  </svg>\n",
              "      </button>\n",
              "      \n",
              "  <style>\n",
              "    .colab-df-container {\n",
              "      display:flex;\n",
              "      flex-wrap:wrap;\n",
              "      gap: 12px;\n",
              "    }\n",
              "\n",
              "    .colab-df-convert {\n",
              "      background-color: #E8F0FE;\n",
              "      border: none;\n",
              "      border-radius: 50%;\n",
              "      cursor: pointer;\n",
              "      display: none;\n",
              "      fill: #1967D2;\n",
              "      height: 32px;\n",
              "      padding: 0 0 0 0;\n",
              "      width: 32px;\n",
              "    }\n",
              "\n",
              "    .colab-df-convert:hover {\n",
              "      background-color: #E2EBFA;\n",
              "      box-shadow: 0px 1px 2px rgba(60, 64, 67, 0.3), 0px 1px 3px 1px rgba(60, 64, 67, 0.15);\n",
              "      fill: #174EA6;\n",
              "    }\n",
              "\n",
              "    [theme=dark] .colab-df-convert {\n",
              "      background-color: #3B4455;\n",
              "      fill: #D2E3FC;\n",
              "    }\n",
              "\n",
              "    [theme=dark] .colab-df-convert:hover {\n",
              "      background-color: #434B5C;\n",
              "      box-shadow: 0px 1px 3px 1px rgba(0, 0, 0, 0.15);\n",
              "      filter: drop-shadow(0px 1px 2px rgba(0, 0, 0, 0.3));\n",
              "      fill: #FFFFFF;\n",
              "    }\n",
              "  </style>\n",
              "\n",
              "      <script>\n",
              "        const buttonEl =\n",
              "          document.querySelector('#df-e939b8ab-2ee3-48e7-a46a-664a02dc3ae9 button.colab-df-convert');\n",
              "        buttonEl.style.display =\n",
              "          google.colab.kernel.accessAllowed ? 'block' : 'none';\n",
              "\n",
              "        async function convertToInteractive(key) {\n",
              "          const element = document.querySelector('#df-e939b8ab-2ee3-48e7-a46a-664a02dc3ae9');\n",
              "          const dataTable =\n",
              "            await google.colab.kernel.invokeFunction('convertToInteractive',\n",
              "                                                     [key], {});\n",
              "          if (!dataTable) return;\n",
              "\n",
              "          const docLinkHtml = 'Like what you see? Visit the ' +\n",
              "            '<a target=\"_blank\" href=https://colab.research.google.com/notebooks/data_table.ipynb>data table notebook</a>'\n",
              "            + ' to learn more about interactive tables.';\n",
              "          element.innerHTML = '';\n",
              "          dataTable['output_type'] = 'display_data';\n",
              "          await google.colab.output.renderOutput(dataTable, element);\n",
              "          const docLink = document.createElement('div');\n",
              "          docLink.innerHTML = docLinkHtml;\n",
              "          element.appendChild(docLink);\n",
              "        }\n",
              "      </script>\n",
              "    </div>\n",
              "  </div>\n",
              "  "
            ]
          },
          "metadata": {},
          "execution_count": 4
        }
      ]
    },
    {
      "cell_type": "markdown",
      "source": [
        "# **1. Which department has the highest employee turnover? Which one has the lowest?**"
      ],
      "metadata": {
        "id": "mUtjLX28nw8H"
      }
    },
    {
      "cell_type": "markdown",
      "source": [
        "**What kind of departments does our corporation has?**\n",
        "* Operations\n",
        "* Support\n",
        "* Logistics\n",
        "* Sales\n",
        "* IT\n",
        "* Admin\n",
        "* Engineering\n",
        "* Marketing\n",
        "* Finance\n",
        "* Retail"
      ],
      "metadata": {
        "id": "_4s-aVI5n5bX"
      }
    },
    {
      "cell_type": "code",
      "source": [
        "departments = df.department.unique()"
      ],
      "metadata": {
        "id": "lufDmsjSoEev"
      },
      "execution_count": 5,
      "outputs": []
    },
    {
      "cell_type": "markdown",
      "source": [
        "**How many peoples does each department has?**"
      ],
      "metadata": {
        "id": "4K2dH6dXoHHl"
      }
    },
    {
      "cell_type": "code",
      "source": [
        "dept = df.department.value_counts()\n",
        "plt.figure(figsize= (12,5))\n",
        "sns.categorical.barplot(x = dept.keys(), y = dept.values).invert_xaxis()\n",
        "plt.title(\"No of peoples in departments\")\n",
        "plt.xlabel(\"department\")\n",
        "plt.ylabel(\"peoples\")\n",
        "plt.show()"
      ],
      "metadata": {
        "colab": {
          "base_uri": "https://localhost:8080/",
          "height": 350
        },
        "id": "WdTGXNUToIFp",
        "outputId": "9fca3696-5018-414a-bb55-85c2be350283"
      },
      "execution_count": 6,
      "outputs": [
        {
          "output_type": "display_data",
          "data": {
            "text/plain": [
              "<Figure size 864x360 with 1 Axes>"
            ],
            "image/png": "[encoded data removed]"
          },
          "metadata": {
            "needs_background": "light"
          }
        }
      ]
    }
  ]
}